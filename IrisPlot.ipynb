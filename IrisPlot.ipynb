{
  "nbformat": 4,
  "nbformat_minor": 0,
  "metadata": {
    "colab": {
      "name": "IrisPlot.ipynb",
      "provenance": [],
      "authorship_tag": "ABX9TyMeOAv/bQ2yIpFZpYqiu3Ud",
      "include_colab_link": true
    },
    "kernelspec": {
      "name": "python3",
      "display_name": "Python 3"
    },
    "language_info": {
      "name": "python"
    }
  },
  "cells": [
    {
      "cell_type": "markdown",
      "metadata": {
        "id": "view-in-github",
        "colab_type": "text"
      },
      "source": [
        "<a href=\"https://colab.research.google.com/github/anastasia21112/IBPhysicsSciComp/blob/main/IrisPlot.ipynb\" target=\"_parent\"><img src=\"https://colab.research.google.com/assets/colab-badge.svg\" alt=\"Open In Colab\"/></a>"
      ]
    },
    {
      "cell_type": "code",
      "metadata": {
        "id": "5uInOrvzEXTQ"
      },
      "source": [
        "import pandas as pd\n",
        "import numpy as np\n",
        "from math import cos,sin,pi\n",
        "import matplotlib as mpl\n",
        "import matplotlib.pyplot as plt"
      ],
      "execution_count": 2,
      "outputs": []
    },
    {
      "cell_type": "code",
      "metadata": {
        "id": "1lik1s4gFK1A"
      },
      "source": [
        "data = pd.read_csv('https://raw.githubusercontent.com/anastasia21112/IBPhysicsSciComp/main/IRIS.csv')"
      ],
      "execution_count": null,
      "outputs": []
    }
  ]
}