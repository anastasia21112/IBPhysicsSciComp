{
  "nbformat": 4,
  "nbformat_minor": 0,
  "metadata": {
    "colab": {
      "name": "IntroToJupyterWithGithubPlot.ipynb",
      "provenance": [],
      "include_colab_link": true
    },
    "kernelspec": {
      "name": "python3",
      "display_name": "Python 3"
    },
    "language_info": {
      "name": "python"
    }
  },
  "cells": [
    {
      "cell_type": "markdown",
      "metadata": {
        "id": "view-in-github",
        "colab_type": "text"
      },
      "source": [
        "<a href=\"https://colab.research.google.com/github/anastasia21112/IBPhysicsSciComp/blob/main/IntroToJupyterWithGithubPlot.ipynb\" target=\"_parent\"><img src=\"https://colab.research.google.com/assets/colab-badge.svg\" alt=\"Open In Colab\"/></a>"
      ]
    },
    {
      "cell_type": "markdown",
      "metadata": {
        "id": "UZmRZDmFTwFC"
      },
      "source": [
        "# Enrique's Guide to uploading data, processing data and graphing data in Jupyter Notebooks\n",
        "\n",
        "by Enrique Arce-Larreta, West High School, Salt Lake City, Utah, enrique.arce-larreta@slcschools.org\n",
        "\n",
        "As part of this course, we will be conducting various experiments throughout the year.   Variables will be analyzed and plotted as part of the course.  The International Baccalaureate program requires you to conduct your own experiment (the IA), take measurements, process (make calculations) the data, and finally present your data (in a graph) from which you draw conclusions.   \n",
        "\n",
        "As such, it is useful to familiarize yourself with plotting and processing software, such as spreadsheets or other software.  Jupyter is a free online platform (no installs necessary) that allows you to process and present data.  This is especially good for large datasets, fyi.\n",
        "\n",
        "This tutorial notebook walks you through how to: \n",
        "\n",
        "- import data into the Notebook\n",
        "- process or manipulate data (make calculations)\n",
        "- graph the data in a scatter graph (add labels, titles)\n",
        "- apply error bars with a fixed uncertainty\n",
        "- add a line of best fit to your graph\n",
        "\n",
        "After doing this notebook, you should be able to reuse these commands to graph any dataset you do for the rest of the year.   We will be using Jupyter periodically throughout the year, so its important to learn how to use it now.\n",
        "\n",
        "\n"
      ]
    },
    {
      "cell_type": "markdown",
      "metadata": {
        "id": "rgnsjkuuHjns"
      },
      "source": [
        "# Setup your notebook\n",
        "\n",
        " - Useful Tip Dont forget to name your notebook (above the file menu)!  Save often.\n",
        "\n",
        "Jupyter Notebooks use python as a programming language.  Typically the first step is to load in all the modules and libraries of functions needed for your project.  So our first step is to load the notebook with plotting and math functions.  This is done by running the cell below (click the play button):"
      ]
    },
    {
      "cell_type": "code",
      "metadata": {
        "id": "EMgGB4QXc06K"
      },
      "source": [
        "import pandas as pd\n",
        "import numpy as np\n",
        "from math import cos,sin,pi\n",
        "import matplotlib as mpl\n",
        "import matplotlib.pyplot as plt"
      ],
      "execution_count": null,
      "outputs": []
    },
    {
      "cell_type": "markdown",
      "metadata": {
        "id": "Plagfw4EdbzC"
      },
      "source": [
        "# Try this:\n",
        "Now just test that you imported these libraries by running (by clicking play or shift-enter) the following:"
      ]
    },
    {
      "cell_type": "code",
      "metadata": {
        "colab": {
          "base_uri": "https://localhost:8080/"
        },
        "id": "HQ951dNIdk9r",
        "outputId": "37880b65-9955-4b76-97fd-3a3a3b27da92"
      },
      "source": [
        "pi"
      ],
      "execution_count": null,
      "outputs": [
        {
          "output_type": "execute_result",
          "data": {
            "text/plain": [
              "3.141592653589793"
            ]
          },
          "metadata": {
            "tags": []
          },
          "execution_count": 2
        }
      ]
    },
    {
      "cell_type": "code",
      "metadata": {
        "colab": {
          "base_uri": "https://localhost:8080/"
        },
        "id": "TvJFVLJ6JzQ5",
        "outputId": "bb2dac60-b727-44b0-bf3a-0d7593f6eac2"
      },
      "source": [
        "11.1+13.22+15.667"
      ],
      "execution_count": null,
      "outputs": [
        {
          "output_type": "execute_result",
          "data": {
            "text/plain": [
              "39.987"
            ]
          },
          "metadata": {
            "tags": []
          },
          "execution_count": 3
        }
      ]
    },
    {
      "cell_type": "markdown",
      "metadata": {
        "id": "O_5DchJZdyN4"
      },
      "source": [
        "You can assign variable names to values and then use them."
      ]
    },
    {
      "cell_type": "code",
      "metadata": {
        "colab": {
          "base_uri": "https://localhost:8080/"
        },
        "id": "q3HRh9cvd7Ln",
        "outputId": "52864658-028e-4bdc-9255-cf150e46505d"
      },
      "source": [
        "a=2\n",
        "b=3\n",
        "a*b\n",
        "\n"
      ],
      "execution_count": null,
      "outputs": [
        {
          "output_type": "execute_result",
          "data": {
            "text/plain": [
              "6"
            ]
          },
          "metadata": {
            "tags": []
          },
          "execution_count": 4
        }
      ]
    },
    {
      "cell_type": "markdown",
      "metadata": {
        "id": "Ex3JRPe1IQiM"
      },
      "source": [
        "# Exercise 1:\n",
        "In the code cell below solve for the year you born by subtracting your age from the current year."
      ]
    },
    {
      "cell_type": "code",
      "metadata": {
        "id": "nLYHCT7UIXX_"
      },
      "source": [
        "# Type in your work here below here:\n",
        "\n",
        "\n"
      ],
      "execution_count": null,
      "outputs": []
    },
    {
      "cell_type": "markdown",
      "metadata": {
        "id": "c-UgmJAQeRzb"
      },
      "source": [
        "# Exponents \n",
        "to apply the square root, you can either use the square root function or just raise the power using the **, for example:"
      ]
    },
    {
      "cell_type": "markdown",
      "metadata": {
        "id": "u6zYhxe3es7m"
      },
      "source": [
        ""
      ]
    },
    {
      "cell_type": "code",
      "metadata": {
        "colab": {
          "base_uri": "https://localhost:8080/"
        },
        "id": "i61GAX5wefVZ",
        "outputId": "af0d5d46-7b5d-48d1-dc06-19d683f8fe10"
      },
      "source": [
        "3**2"
      ],
      "execution_count": null,
      "outputs": [
        {
          "output_type": "execute_result",
          "data": {
            "text/plain": [
              "9"
            ]
          },
          "metadata": {
            "tags": []
          },
          "execution_count": 5
        }
      ]
    },
    {
      "cell_type": "code",
      "metadata": {
        "colab": {
          "base_uri": "https://localhost:8080/"
        },
        "id": "jyXd4lySejiz",
        "outputId": "b1611535-deea-4f89-fb6f-a95d0b954459"
      },
      "source": [
        "3**3"
      ],
      "execution_count": null,
      "outputs": [
        {
          "output_type": "execute_result",
          "data": {
            "text/plain": [
              "27"
            ]
          },
          "metadata": {
            "tags": []
          },
          "execution_count": 6
        }
      ]
    },
    {
      "cell_type": "code",
      "metadata": {
        "colab": {
          "base_uri": "https://localhost:8080/"
        },
        "id": "5zTVGEZPemsk",
        "outputId": "614266b2-9192-420f-e24b-28eedca5329c"
      },
      "source": [
        "16**0.5"
      ],
      "execution_count": null,
      "outputs": [
        {
          "output_type": "execute_result",
          "data": {
            "text/plain": [
              "4.0"
            ]
          },
          "metadata": {
            "tags": []
          },
          "execution_count": 7
        }
      ]
    },
    {
      "cell_type": "markdown",
      "metadata": {
        "id": "sdUvW_tsX5Ih"
      },
      "source": [
        ""
      ]
    },
    {
      "cell_type": "markdown",
      "metadata": {
        "id": "GtY6P8vCeu_S"
      },
      "source": [
        "The square root function is in the numpy library and is called like:"
      ]
    },
    {
      "cell_type": "code",
      "metadata": {
        "colab": {
          "base_uri": "https://localhost:8080/"
        },
        "id": "rXuMGT0ye0Q_",
        "outputId": "0572d639-027a-462c-96db-9639ceee38d1"
      },
      "source": [
        "np.sqrt(16)"
      ],
      "execution_count": null,
      "outputs": [
        {
          "output_type": "execute_result",
          "data": {
            "text/plain": [
              "4.0"
            ]
          },
          "metadata": {
            "tags": []
          },
          "execution_count": 8
        }
      ]
    },
    {
      "cell_type": "markdown",
      "metadata": {
        "id": "mmUJ48foe5ka"
      },
      "source": [
        "a function is called by a case sensitive name, followed by paranthesis that require inputs.   So in the square root case, the name is: np.sqrt and the input is (16).  So it runs the square root algorithm for the input of 16."
      ]
    },
    {
      "cell_type": "markdown",
      "metadata": {
        "id": "gK0YW17mJ1y7"
      },
      "source": [
        "# Exercise 2\n",
        "Evaluate 22 raised to the power 3.   "
      ]
    },
    {
      "cell_type": "code",
      "metadata": {
        "id": "5ub4rd5kJ3BZ"
      },
      "source": [
        "#Type here\n",
        "\n"
      ],
      "execution_count": null,
      "outputs": []
    },
    {
      "cell_type": "markdown",
      "metadata": {
        "id": "7Dg7pqiuJ_4P"
      },
      "source": [
        "# Importing or loading a data set.\n",
        "\n",
        "We will be working with data collected from a pendulum experiment.   In this experiment, we will be working with a simple pendulum and changing the length of the pendulum and measuring the time for one back and forth motion (called the period of the pendulum.   This is the number of seconds for the pendulum to repeat its position.   You can conduct trials of this experiment on the online simulation located at: https://phet.colorado.edu/en/simulation/pendulum-lab\n",
        "\n",
        "I did this and collected a record of all the trials on an Excel spreadsheet.  You can then save your spreadsheet as a csv file.   CSV stands for comma seperated values and are common/standard in loading into data processing applications.  If you want to see what my file looks like just open this link: https://raw.githubusercontent.com/fearlab/Datasets/master/PendulumData.csv\n",
        "you should see lots of commas and numbers.   After saving the document, it is nice to store the file someplace remotely.  There is a free web repository site called github, at github.com where you'll need to make an account and then upload your data.\n",
        "\n",
        "Once you have done that, you can always upload your csv files there and access them remotely.  Here is how you read in a file:"
      ]
    },
    {
      "cell_type": "code",
      "metadata": {
        "id": "a64NBOgxft3i"
      },
      "source": [
        "# a hashtag tells the program \"don't read the rest of the line\"\n",
        "# That way we can write \"comments\" to humans trying to figure out what the code does\n",
        "\n",
        "data = pd.read_csv('https://raw.githubusercontent.com/fearlab/Datasets/master/PendulumData.csv')"
      ],
      "execution_count": null,
      "outputs": []
    },
    {
      "cell_type": "code",
      "metadata": {
        "colab": {
          "base_uri": "https://localhost:8080/",
          "height": 195
        },
        "id": "xK1V70nT5S21",
        "outputId": "343c85b8-0256-45c9-ed26-5ea7a32985b2"
      },
      "source": [
        "#this command displays the first 5 rows of the data (this is a way to check that the data uploaded)\n",
        "data.head(5)"
      ],
      "execution_count": null,
      "outputs": [
        {
          "output_type": "execute_result",
          "data": {
            "text/html": [
              "<div>\n",
              "<style scoped>\n",
              "    .dataframe tbody tr th:only-of-type {\n",
              "        vertical-align: middle;\n",
              "    }\n",
              "\n",
              "    .dataframe tbody tr th {\n",
              "        vertical-align: top;\n",
              "    }\n",
              "\n",
              "    .dataframe thead th {\n",
              "        text-align: right;\n",
              "    }\n",
              "</style>\n",
              "<table border=\"1\" class=\"dataframe\">\n",
              "  <thead>\n",
              "    <tr style=\"text-align: right;\">\n",
              "      <th></th>\n",
              "      <th>Length</th>\n",
              "      <th>Trial 1</th>\n",
              "      <th>Trial 2</th>\n",
              "      <th>Average T</th>\n",
              "    </tr>\n",
              "  </thead>\n",
              "  <tbody>\n",
              "    <tr>\n",
              "      <th>0</th>\n",
              "      <td>5</td>\n",
              "      <td>12</td>\n",
              "      <td>11.5</td>\n",
              "      <td>11.75</td>\n",
              "    </tr>\n",
              "    <tr>\n",
              "      <th>1</th>\n",
              "      <td>6</td>\n",
              "      <td>14</td>\n",
              "      <td>13.0</td>\n",
              "      <td>13.50</td>\n",
              "    </tr>\n",
              "    <tr>\n",
              "      <th>2</th>\n",
              "      <td>7</td>\n",
              "      <td>18</td>\n",
              "      <td>17.5</td>\n",
              "      <td>17.75</td>\n",
              "    </tr>\n",
              "    <tr>\n",
              "      <th>3</th>\n",
              "      <td>8</td>\n",
              "      <td>20</td>\n",
              "      <td>21.0</td>\n",
              "      <td>20.50</td>\n",
              "    </tr>\n",
              "    <tr>\n",
              "      <th>4</th>\n",
              "      <td>9</td>\n",
              "      <td>25</td>\n",
              "      <td>24.0</td>\n",
              "      <td>24.50</td>\n",
              "    </tr>\n",
              "  </tbody>\n",
              "</table>\n",
              "</div>"
            ],
            "text/plain": [
              "   Length  Trial 1  Trial 2  Average T\n",
              "0       5       12     11.5      11.75\n",
              "1       6       14     13.0      13.50\n",
              "2       7       18     17.5      17.75\n",
              "3       8       20     21.0      20.50\n",
              "4       9       25     24.0      24.50"
            ]
          },
          "metadata": {
            "tags": []
          },
          "execution_count": 11
        }
      ]
    },
    {
      "cell_type": "markdown",
      "metadata": {
        "id": "hqCsSsf6MKGT"
      },
      "source": [
        "# Exercise 3 \n",
        "\n",
        "Download my pendulum data.  (you can do this by going to: https://raw.githubusercontent.com/fearlab/Datasets/master/PendulumData.csv and then right clicking and selecting \"save as\"\n",
        "Go onto github.com, make an account and upload this file to your new account.\n",
        "<br>\n",
        "   Hints: <p> 1. make a new repository (I called mine \"Datasets\") <br>\n",
        "           2. click \"add file\" or \"upload\"<br>\n",
        "           3. after you select, click on \"committ changes\"\n",
        "<p>\n",
        "After your file is uploaded, click on it until you have the raw data page (this will look pretty much exactly like mine where you downloaded it)\n",
        "\n",
        "Copy that web address and then type in the command to read in your data below:"
      ]
    },
    {
      "cell_type": "code",
      "metadata": {
        "id": "pkRFz8uvN5Wr"
      },
      "source": [
        "# Type the command to load the pendulum data from your github.  \n",
        "\n",
        "\n"
      ],
      "execution_count": null,
      "outputs": []
    },
    {
      "cell_type": "code",
      "metadata": {
        "id": "2rfUjiC9OVag"
      },
      "source": [
        "# Lets see the first 5 rows, just to make sure it worked:\n",
        "\n"
      ],
      "execution_count": null,
      "outputs": []
    },
    {
      "cell_type": "markdown",
      "metadata": {
        "id": "HKO0rC98Oh0Q"
      },
      "source": [
        "# Plotting Data\n",
        "\n",
        "The function for plotting is plt.plot(x,y)  where x is your x values and y is your y values.\n",
        "\n",
        "In order to plot this, we need to call our x values from the data array we just imported.   We call the Length file by typing:  data['Length']  \n",
        "\n",
        "the y values are called by typing in data['Average T']\n",
        "\n",
        "'Length' and 'Average T' are the column headers for the data array.   If you look at the data.head(5) you will see the top column has the headers.  These are case sensitive.   If you type in the wrong header, it wont work, capitalization and spaces included."
      ]
    },
    {
      "cell_type": "code",
      "metadata": {
        "colab": {
          "base_uri": "https://localhost:8080/",
          "height": 282
        },
        "id": "11RRGema8lWv",
        "outputId": "3ba91a41-c25e-4eb9-e309-5fe4c7c1aa9b"
      },
      "source": [
        "#this command makes a line plot of the variable.  plt.plot(x,y)\n",
        "#so our x data will be Length and our y data will be Average T\n",
        "x = data['Length']\n",
        "y = data['Average T']\n",
        "plt.plot(x,y)"
      ],
      "execution_count": null,
      "outputs": [
        {
          "output_type": "execute_result",
          "data": {
            "text/plain": [
              "[<matplotlib.lines.Line2D at 0x7f9504779990>]"
            ]
          },
          "metadata": {
            "tags": []
          },
          "execution_count": 12
        },
        {
          "output_type": "display_data",
          "data": {
            "image/png": "[encoded data removed]",
            "text/plain": [
              "<Figure size 432x288 with 1 Axes>"
            ]
          },
          "metadata": {
            "tags": [],
            "needs_background": "light"
          }
        }
      ]
    },
    {
      "cell_type": "markdown",
      "metadata": {
        "id": "BCn1BIYVPul0"
      },
      "source": [
        "# Exercise 4\n",
        "\n",
        "I want to see the x and y values.  Can you figure out how to call those below?"
      ]
    },
    {
      "cell_type": "code",
      "metadata": {
        "id": "1S4GZ5wcP5Yk"
      },
      "source": [
        "# call the x values below:\n",
        "\n"
      ],
      "execution_count": null,
      "outputs": []
    },
    {
      "cell_type": "code",
      "metadata": {
        "id": "Y7efM0aBP8DJ"
      },
      "source": [
        "# call the y values here:\n",
        "\n"
      ],
      "execution_count": null,
      "outputs": []
    },
    {
      "cell_type": "markdown",
      "metadata": {
        "id": "vmiM8OMcQHoc"
      },
      "source": [
        "#Changing Marker, color and linestyle\n",
        "\n",
        "The graph is not really good.  First, lets not connect the datapoints with a line.  This is done by adding the linestyle = '' command.  by leaving it blank, it tells the software to delete the lines connecting the points.  If you want dashed lines, you enter in linestyle='--'.  \n",
        "\n",
        "marker='x' changes the data points to x's.  Other marker types that are liked by IB are +'s and *'s.  You can also do squares, circles, diamonds, and many others ('s','o','d').   So if I wanted to do circles as data points, the syntax would be marker='o'.   \n",
        "\n",
        "color='black' makes all the points that color.   There are lots of colors.\n"
      ]
    },
    {
      "cell_type": "code",
      "metadata": {
        "colab": {
          "base_uri": "https://localhost:8080/",
          "height": 282
        },
        "id": "DIe2srED9a1a",
        "outputId": "344e0844-8203-468c-a469-b7e3d9383dba"
      },
      "source": [
        "#I'm going to make the same graph, but add black x's as data points and erase the line connecting the x's\n",
        "plt.plot(x,y, linestyle='', marker='x', color='black')"
      ],
      "execution_count": null,
      "outputs": [
        {
          "output_type": "execute_result",
          "data": {
            "text/plain": [
              "[<matplotlib.lines.Line2D at 0x7f9504247710>]"
            ]
          },
          "metadata": {
            "tags": []
          },
          "execution_count": 13
        },
        {
          "output_type": "display_data",
          "data": {
            "image/png": "[encoded data removed]",
            "text/plain": [
              "<Figure size 432x288 with 1 Axes>"
            ]
          },
          "metadata": {
            "tags": [],
            "needs_background": "light"
          }
        }
      ]
    },
    {
      "cell_type": "markdown",
      "metadata": {
        "id": "KFoRd0GDRlNx"
      },
      "source": [
        "# Exercise 5\n",
        "\n",
        "Make a plot of length vs Trial 1.   It will look pretty close to the Average T, fyi.   I want:  green diamonds connected by dashed lines"
      ]
    },
    {
      "cell_type": "code",
      "metadata": {
        "colab": {
          "background_save": true
        },
        "id": "-w4rPspaSLfB"
      },
      "source": [
        "# Type your line of code to plot here:\n"
      ],
      "execution_count": null,
      "outputs": []
    },
    {
      "cell_type": "markdown",
      "metadata": {
        "id": "sUsvErcMGaKI"
      },
      "source": [
        "Now you are done, just go to File ->  Print ->  Save as PDF and upload to canvas like any normal pdf.\n",
        "\n",
        "thanks"
      ]
    }
  ]
}